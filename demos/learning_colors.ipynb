{
 "metadata": {
  "name": "learning_colors"
 },
 "nbformat": 3,
 "nbformat_minor": 0,
 "worksheets": [
  {
   "cells": [
    {
     "cell_type": "heading",
     "level": 1,
     "metadata": {},
     "source": [
      "Learning Colors with <code>show_color</code> and <code>embed_colorpicker</code>"
     ]
    },
    {
     "cell_type": "markdown",
     "metadata": {},
     "source": [
      "A prerequisite to playing with [`ipythonblocks`](https://github.com/jiffyclub/ipythonblocks) is understanding how RGB colors work. To make it easy for students to experiment with different combinations of RGB `ipythonblocks` includes a `show_color` function that just shows a big stripe of a given color."
     ]
    },
    {
     "cell_type": "code",
     "collapsed": false,
     "input": [
      "from ipythonblocks import show_color, embed_colorpicker"
     ],
     "language": "python",
     "metadata": {},
     "outputs": [],
     "prompt_number": 1
    },
    {
     "cell_type": "code",
     "collapsed": false,
     "input": [
      "show_color(12, 123, 234)"
     ],
     "language": "python",
     "metadata": {},
     "outputs": [
      {
       "html": [
        "<div style=\"height: 60px; min-width: 200px; background-color: rgb(12, 123, 234)\"></div>"
       ],
       "output_type": "display_data",
       "text": [
        "<IPython.core.display.HTML at 0x10a27c3d0>"
       ]
      }
     ],
     "prompt_number": 2
    },
    {
     "cell_type": "markdown",
     "metadata": {},
     "source": [
      "If students are expected to have an internet connection the `embed_colorpicker` function can be used to embed the website [ColorPicker.com](http://www.colorpicker.com/) in the Notebook."
     ]
    },
    {
     "cell_type": "code",
     "collapsed": false,
     "input": [
      "embed_colorpicker()"
     ],
     "language": "python",
     "metadata": {},
     "outputs": [
      {
       "html": [
        "<iframe src=\"http://www.colorpicker.com/\" width=\"100%\" height=\"550px\"></iframe>"
       ],
       "output_type": "display_data",
       "text": [
        "<IPython.core.display.HTML at 0x11125f3d0>"
       ]
      }
     ],
     "prompt_number": 3
    },
    {
     "cell_type": "code",
     "collapsed": false,
     "input": [],
     "language": "python",
     "metadata": {},
     "outputs": []
    }
   ],
   "metadata": {}
  }
 ]
}